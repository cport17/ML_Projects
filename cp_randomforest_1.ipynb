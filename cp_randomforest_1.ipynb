{
 "cells": [
  {
   "cell_type": "code",
   "execution_count": 568,
   "metadata": {
    "collapsed": true
   },
   "outputs": [],
   "source": [
    "import pandas as pd\n",
    "import numpy as np\n",
    "import matplotlib.pyplot as plt\n",
    "import os\n",
    "import seaborn as sns\n",
    "import re\n",
    "\n",
    "df_2014 = pd.read_csv('2014_master.csv')\n",
    "df_2015 = pd.read_csv('2015_master.csv')\n",
    "df_2016 = pd.read_csv('2016_master.csv')\n",
    "df_2017 = pd.read_csv('2017_master.csv')"
   ]
  },
  {
   "cell_type": "code",
   "execution_count": 569,
   "metadata": {
    "collapsed": true
   },
   "outputs": [],
   "source": [
    "df_2014['Season'] = 2014\n",
    "df_2015['Season'] = 2015\n",
    "df_2016['Season'] = 2016\n",
    "df_2017['Season'] = 2017\n",
    "\n",
    "df = pd.concat([df_2014, df_2015, df_2016, df_2017])\n",
    "\n",
    "# not a real game type, dropped\n",
    "df = df[df.game_type_0!=1]\n",
    "\n",
    "# index counter to be removed\n",
    "df.drop(['Unnamed: 0','game_type_0'], axis=1, inplace=True)"
   ]
  },
  {
   "cell_type": "code",
   "execution_count": 570,
   "metadata": {
    "collapsed": true
   },
   "outputs": [],
   "source": [
    "#rename columns so more readable\n",
    "\n",
    "new_columns = df.columns.values\n",
    "new_columns[58:65] = ['TNF', 'Sunday_AM', 'Sunday_PM', 'SNF', 'MNF', 'England', 'Saturday']\n",
    "df.columns = new_columns"
   ]
  },
  {
   "cell_type": "code",
   "execution_count": 571,
   "metadata": {
    "collapsed": true
   },
   "outputs": [],
   "source": [
    "for col in range(66,114,4):\n",
    "    title = df.columns[col][5:]\n",
    "    df['home_off_spread_%s' % title] = df[df.columns[col]]-df[df.columns[col-57]]\n",
    "for col in range(7,59,4):\n",
    "    title = df.columns[col][5:]\n",
    "    df['away_off_spread_%s' % title] = df[df.columns[col]]-df[df.columns[col+61]]"
   ]
  },
  {
   "cell_type": "code",
   "execution_count": 572,
   "metadata": {
    "collapsed": true
   },
   "outputs": [],
   "source": [
    "for col in range(65,115,4):\n",
    "    title = df.columns[col][5:]\n",
    "    df['home_off_spread_%s' % title] = df[df.columns[col]]-df[df.columns[col-57]]\n",
    "for col in range(6,58,4):\n",
    "    title = df.columns[col][5:]\n",
    "    df['away_off_spread_%s' % title] = df[df.columns[col]]-df[df.columns[col+61]]"
   ]
  },
  {
   "cell_type": "code",
   "execution_count": 573,
   "metadata": {},
   "outputs": [],
   "source": [
    "# dropping tampa and miami week 2 2017 games because they had no week 1 data because of flood \n",
    "df.reset_index(drop=True, inplace=True)\n",
    "\n",
    "df.drop(df[(df.Season == 2017) & (df.Week == 2) & (df.Away_team == 'MIA')].index, inplace=True)\n",
    "df.drop(df[(df.Season == 2017) & (df.Week == 2) & (df.Home_team == 'TAM')].index, inplace=True)"
   ]
  },
  {
   "cell_type": "code",
   "execution_count": 574,
   "metadata": {
    "collapsed": true
   },
   "outputs": [],
   "source": [
    "# # creating teams location features \n",
    "# #home timezone\n",
    "\n",
    "def h_tz(x):\n",
    "    if x in ['LAC','OAK','SEA','LAR','SFO']:\n",
    "        tz = 'Home_team_west'\n",
    "    elif x in ['DEN','ARI']:\n",
    "        tz = 'Home_team_mtn'\n",
    "    elif x in ['KAN','IND','NOR','DET','MIN','CHI','TEN','GNB','HOU','DAL']:\n",
    "        tz = 'Home_team_midwest'\n",
    "    else:\n",
    "        tz = 'Home_team_east'\n",
    "    return tz\n",
    "\n",
    "df['Home_tz'] = df['Home_team'].apply(h_tz)    \n",
    "        \n",
    "df = df.join(pd.get_dummies(df['Home_tz']))\n",
    "df.drop('Home_tz', axis=1, inplace=True)\n",
    "\n",
    "#away timezone\n",
    "\n",
    "def a_tz(x):\n",
    "    if x in ['LAC','OAK','SEA','LAR','SFO']:\n",
    "        tz = 'Away_team_west'\n",
    "    elif x in ['DEN','ARI']:\n",
    "        tz = 'Away_team_mtn'\n",
    "    elif x in ['KAN','IND','NOR','DET','MIN','CHI','TEN','GNB','HOU','DAL']:\n",
    "        tz = 'Away_team_midwest'\n",
    "    else:\n",
    "        tz = 'Away_team_east'\n",
    "    return tz\n",
    "\n",
    "df['Away_tz'] = df['Away_team'].apply(a_tz)  \n",
    "\n",
    "df = df.join(pd.get_dummies(df['Away_tz']))\n",
    "df.drop('Away_tz', axis=1, inplace=True)\n",
    "\n",
    "# games timezone\n",
    "\n",
    "def g_tz(x):\n",
    "    if x[1]==1:\n",
    "        tz = 'game_eng'\n",
    "    elif x[0] in ['LAC','OAK','SEA','LAR','SFO']:\n",
    "        tz = 'game_west'\n",
    "    elif x[0] in ['DEN','ARI']:\n",
    "        tz = 'game_mtn'\n",
    "    elif x[0] in ['KAN','IND','NOR','DET','MIN','CHI','TEN','GNB','HOU','DAL']:\n",
    "        tz = 'game_midwest'\n",
    "    else:\n",
    "        tz = 'game_east'\n",
    "    return tz\n",
    "\n",
    "df['game_tz'] = df[['Home_team','England']].apply(g_tz, axis=1)  \n",
    "\n",
    "df = df.join(pd.get_dummies(df['game_tz']))\n",
    "df.drop('game_tz', axis=1, inplace=True)\n",
    "\n",
    "# # Adding column for division games# Adding \n",
    "\n",
    "def division_game(x):\n",
    "    AFC_east = ['NWE','BUF','MIA','NYJ']\n",
    "    AFC_north = ['PIT','BAL','CIN','CLE']\n",
    "    AFC_south = ['JAX','TEN','IND','HOU']\n",
    "    AFC_west = ['KAN','LAC','OAK','DEN']\n",
    "    NFC_east = ['PHI','DAL','WAS','NYG']\n",
    "    NFC_north = ['MIN','DET','GNB','CHI']\n",
    "    NFC_south = ['NOR','CAR','ATL','TAM']\n",
    "    NFC_west = ['LAR','SEA','ARI','SFO']\n",
    "    home = x[0]\n",
    "    away = x[1]\n",
    "    if ((home in AFC_east) & (away in AFC_east)) | ((home in AFC_north) & (away in AFC_north)):\n",
    "        d = 1\n",
    "    elif ((home in AFC_south) & (away in AFC_south)) | ((home in AFC_west) & (away in AFC_west)):\n",
    "        d = 1\n",
    "    elif ((home in NFC_east) & (away in NFC_east)) | ((home in NFC_north) & (away in NFC_north)):\n",
    "        d = 1\n",
    "    elif ((home in NFC_south) & (away in NFC_south)) | ((home in NFC_west) & (away in NFC_west)):\n",
    "        d = 1\n",
    "    else:\n",
    "        d=0\n",
    "    return d\n",
    "\n",
    "\n",
    "df['Division_game'] = df[['Home_team','Away_team']].apply(division_game, axis=1)"
   ]
  },
  {
   "cell_type": "code",
   "execution_count": 575,
   "metadata": {},
   "outputs": [],
   "source": [
    "# measure time between games\n",
    "\n",
    "# df['game_type'] = df[['TNF', 'Sunday_AM', 'Sunday_PM', 'SNF', 'MNF', 'England', 'Saturday']].idxmax(axis=1)\n",
    "\n",
    "# def time_btwn(x):\n",
    "#     week = x[0]\n",
    "#     team = x[1]\n",
    "#     season = x[2]\n",
    "#     game_t = {'TNF':0, 'Sunday_AM':3, 'Sunday_PM':3, 'SNF':3, 'MNF':4, 'England':3, 'Saturday':2}\n",
    "#     try: \n",
    "#         week_after = df[((df['Week']==week) & (df['Season']==season)) & ((df['Home_team']==team) | (df['Away_team']==team))]['game_type'].iloc[0]\n",
    "#         try:\n",
    "#             week_before = df[((df['Week']==week-1) & (df['Season']==season)) & ((df['Home_team']==team) | (df['Away_team']==team))]['game_type'].iloc[0]\n",
    "#             weekly = 7\n",
    "#         except:\n",
    "#             week_before = df[((df['Week']==week-2) & (df['Season']==season)) & ((df['Home_team']==team) | (df['Away_team']==team))]['game_type'].iloc[0]\n",
    "#             weekly = 14\n",
    "#         tb = game_t[week_after] + weekly - game_t[week_before]\n",
    "#     except:\n",
    "#         tb = 7 \n",
    "#     return tb\n",
    "\n",
    "# df['Home_team_days_after_last_game'] = df[['Week','Home_team','Season']].apply(time_btwn, axis=1)\n",
    "# df['Away_team_days_after_last_game'] = df[['Week','Away_team','Season']].apply(time_btwn, axis=1)\n",
    "\n",
    "# df.drop('game_type', axis=1, inplace=True)"
   ]
  },
  {
   "cell_type": "code",
   "execution_count": 576,
   "metadata": {},
   "outputs": [],
   "source": [
    "# ADD GAME DATA\n",
    "\n",
    "pg = pd.read_csv('NFL_scrape.csv')\n",
    "pg = pg.drop('Unnamed: 0', axis=1)\n",
    "df_hw = pd.merge(df,pg,how='left', on=['Week','Season','Home_team','Away_team'])\n",
    "df = df_hw.drop('Home_win',axis=1)"
   ]
  },
  {
   "cell_type": "code",
   "execution_count": 577,
   "metadata": {
    "collapsed": true
   },
   "outputs": [],
   "source": [
    "# DUMMY VARIABLES FOR TEAMS, MAKE SURE TO CHECK THAT TEAMS ARE NOT DROPPED FROM TRAINING DATA BELOW\n",
    "\n",
    "df = pd.get_dummies(data=df,columns=['Home_team'])\n",
    "df = pd.get_dummies(data=df,columns=['Away_team'])"
   ]
  },
  {
   "cell_type": "code",
   "execution_count": 578,
   "metadata": {
    "collapsed": true
   },
   "outputs": [],
   "source": [
    "from sklearn.model_selection import train_test_split\n",
    "from sklearn.ensemble import RandomForestClassifier\n",
    "from sklearn.model_selection import GridSearchCV\n",
    "from sklearn.metrics import accuracy_score\n",
    "from sklearn.model_selection import StratifiedKFold"
   ]
  },
  {
   "cell_type": "code",
   "execution_count": 579,
   "metadata": {
    "collapsed": true
   },
   "outputs": [],
   "source": [
    "df_test_by_season = df[df['Season']==2017]\n",
    "df_train_by_season = df[df['Season']!=2017]\n",
    "\n",
    "y_train = df_train_by_season['Home_cover']\n",
    "X_train = df_train_by_season.drop(['Season','Home_cover'], axis=1)\n",
    "# X_train = df_train_by_season.drop(['Season','Home_team', 'Away_team', 'Home_cover'], axis=1)\n",
    "\n",
    "y_test = df_test_by_season['Home_cover']\n",
    "X_test = df_test_by_season.drop(['Season','Home_cover'], axis=1)\n",
    "# X_test = df_test_by_season.drop(['Season','Home_team', 'Away_team', 'Home_cover'], axis=1)"
   ]
  },
  {
   "cell_type": "code",
   "execution_count": 580,
   "metadata": {},
   "outputs": [
    {
     "name": "stdout",
     "output_type": "stream",
     "text": [
      "('RFC GridSearchCV Best Score: ', 0.51738525730180807, ' with ', {'max_features': 'auto', 'n_estimators': 15, 'max_depth': 9})\n",
      "('RFC Test Score: ', 0.5104602510460251)\n",
      "('RFC Train Score: ', 0.97913769123783034)\n"
     ]
    }
   ],
   "source": [
    "params = [{'n_estimators': [9,12,15],'max_features': ['auto','sqrt','log2'], 'max_depth':[9,12,15]}]\n",
    "\n",
    "clf = GridSearchCV(RandomForestClassifier(random_state=42), params, scoring='accuracy', cv=StratifiedKFold(10)).fit(X_train, y_train)\n",
    "clf.cv_results_\n",
    "clf.best_params_\n",
    "print('RFC GridSearchCV Best Score: ', clf.best_score_, ' with ' , clf.best_params_)\n",
    "\n",
    "print('RFC Test Score: ', accuracy_score(y_test, clf.predict(X_test)))\n",
    "print('RFC Train Score: ', accuracy_score(y_train, clf.predict(X_train)))"
   ]
  },
  {
   "cell_type": "code",
   "execution_count": 581,
   "metadata": {},
   "outputs": [
    {
     "name": "stdout",
     "output_type": "stream",
     "text": [
      "[(0.34444740763981485, 1, 0), (0.32296164102790265, 1, 0), (0.31606060606060604, 1, 0), (0.31020414118158479, 0, 0), (0.2957587818567855, 1, 0)]\n"
     ]
    }
   ],
   "source": [
    "#using top5 predictions and seeing how model would have performed with top five predictions\n",
    "\n",
    "guess = list(zip(abs(clf.predict_proba(X_test)[:,1]-.5), y_test, [0 if x<.5 else 1 for x in clf.predict_proba(X_test)[:,1]]))\n",
    "top5 = sorted(guess, reverse=True)[:5]\n",
    "print(top5)"
   ]
  },
  {
   "cell_type": "code",
   "execution_count": 582,
   "metadata": {},
   "outputs": [
    {
     "name": "stdout",
     "output_type": "stream",
     "text": [
      "[(0.278743961352657, 0, 1), (0.23030303030303034, 1, 0), (0.16956521739130426, 1, 1), (0.16596491228070176, 1, 1), (0.16138888888888892, 0, 1)]\n",
      "Week 2 record: \n",
      "2-3\n",
      "[(0.2845614035087719, 0, 0), (0.23999999999999999, 1, 0), (0.14128146453089246, 1, 0), (0.13512384565016144, 1, 1), (0.11704545454545456, 0, 1)]\n",
      "Week 3 record: \n",
      "2-3\n",
      "[(0.2007287672070035, 1, 0), (0.17626794258373202, 0, 1), (0.17216949416591687, 0, 1), (0.15618072208821621, 0, 0), (0.15233662926372965, 1, 0)]\n",
      "Week 4 record: \n",
      "1-4\n",
      "[(0.24659820958399159, 1, 0), (0.19232612704602564, 1, 0), (0.16562498612188054, 0, 0), (0.11395697193165544, 0, 1), (0.11326140086473463, 1, 0)]\n",
      "Week 5 record: \n",
      "1-4\n",
      "[(0.22975091697666072, 1, 1), (0.22175995544416599, 0, 0), (0.20212784212784213, 1, 0), (0.18699951459676861, 1, 0), (0.17170878014708901, 1, 0)]\n",
      "Week 6 record: \n",
      "2-3\n",
      "[(0.24853990376638463, 1, 0), (0.18150092875886265, 0, 0), (0.14528272893320471, 1, 1), (0.10307890426311478, 1, 0), (0.083533500405710615, 0, 0)]\n",
      "Week 7 record: \n",
      "3-2\n",
      "[(0.26714759872654609, 0, 0), (0.16101544609592572, 0, 0), (0.15093786583843544, 1, 0), (0.12086610192304731, 0, 0), (0.10810024015105679, 1, 1)]\n",
      "Week 8 record: \n",
      "4-1\n",
      "[(0.31020414118158479, 0, 0), (0.18454752363756949, 1, 0), (0.17648009999229508, 0, 0), (0.17360930688147425, 1, 1), (0.17033641487397733, 1, 0)]\n",
      "Week 9 record: \n",
      "3-2\n",
      "[(0.2957587818567855, 1, 0), (0.17324318741317984, 0, 0), (0.14821794374819847, 1, 0), (0.12585517932227297, 1, 1), (0.099889450426035808, 1, 1)]\n",
      "Week 10 record: \n",
      "3-2\n",
      "[(0.19492617194038997, 1, 1), (0.15015536111921657, 0, 1), (0.13383966144345349, 0, 1), (0.12891492169657959, 0, 1), (0.11688091628417119, 0, 1)]\n",
      "Week 11 record: \n",
      "1-4\n",
      "[(0.26521213239748709, 0, 1), (0.26078098591436516, 0, 0), (0.18530611020667975, 0, 0), (0.16317308397529112, 0, 0), (0.15590630366743868, 1, 0)]\n",
      "Week 12 record: \n",
      "3-2\n",
      "[(0.15127034758613722, 1, 1), (0.14635364956793523, 1, 0), (0.12918102473658027, 0, 0), (0.12643658849012118, 1, 0), (0.11423928979484538, 1, 0)]\n",
      "Week 13 record: \n",
      "2-3\n",
      "[(0.22571112111946962, 1, 0), (0.22120735491877952, 0, 0), (0.21831610820783365, 1, 1), (0.18960338317578179, 1, 0), (0.17574512536203213, 1, 0)]\n",
      "Week 14 record: \n",
      "2-3\n",
      "[(0.19232110468084107, 1, 1), (0.12852959002740572, 1, 0), (0.12780610766294115, 1, 0), (0.1156903259506924, 0, 0), (0.11043344840813196, 1, 1)]\n",
      "Week 15 record: \n",
      "3-2\n",
      "[(0.34444740763981485, 1, 0), (0.32296164102790265, 1, 0), (0.31606060606060604, 1, 0), (0.1481947712693294, 1, 0), (0.14258615228814853, 1, 0)]\n",
      "Week 16 record: \n",
      "0-5\n",
      "[(0.21679098679098679, 0, 0), (0.19422168225377973, 1, 0), (0.18811581800028526, 0, 0), (0.18609149668680558, 1, 1), (0.16465477001611462, 0, 0)]\n",
      "Week 17 record: \n",
      "4-1\n"
     ]
    }
   ],
   "source": [
    "# how model would have done by week in 2017 for top five predictions random forest# how mo \n",
    "\n",
    "for week in range(2,18):\n",
    "    df_test_by_week = df_test_by_season[df_test_by_season['Week']==week]\n",
    "\n",
    "    y_test_by_week = df_test_by_week['Home_cover']\n",
    "    X_test_by_week = df_test_by_week.drop(['Season', 'Home_cover'], axis=1)\n",
    "#     X_test_by_week = df_test_by_week.drop(['Season','Home_team', 'Away_team', 'Home_cover'], axis=1)\n",
    "\n",
    "    guess = list(zip(abs(clf.predict_proba(X_test_by_week)[:,1]-.5), y_test_by_week, [0 if x<.5 else 1 for x in clf.predict_proba(X_test_by_week)[:,1]]))\n",
    "    top5 = sorted(guess, reverse=True)[:5]\n",
    "    print(top5)\n",
    "    w = 0\n",
    "    for acc in top5:\n",
    "        if (acc[1]==acc[2]):\n",
    "            w+=1\n",
    "    print('Week %d record: ' % week)\n",
    "    print(str(w) +'-' + str(len(top5)-w))"
   ]
  },
  {
   "cell_type": "code",
   "execution_count": null,
   "metadata": {
    "collapsed": true
   },
   "outputs": [],
   "source": []
  }
 ],
 "metadata": {
  "kernelspec": {
   "display_name": "Python 2",
   "language": "python",
   "name": "python2"
  },
  "language_info": {
   "codemirror_mode": {
    "name": "ipython",
    "version": 2
   },
   "file_extension": ".py",
   "mimetype": "text/x-python",
   "name": "python",
   "nbconvert_exporter": "python",
   "pygments_lexer": "ipython2",
   "version": "2.7.14"
  }
 },
 "nbformat": 4,
 "nbformat_minor": 2
}
