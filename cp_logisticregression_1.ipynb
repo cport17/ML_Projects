{
 "cells": [
  {
   "cell_type": "code",
   "execution_count": 133,
   "metadata": {
    "collapsed": true
   },
   "outputs": [],
   "source": [
    "import pandas as pd\n",
    "import numpy as np\n",
    "import matplotlib.pyplot as plt\n",
    "import os\n",
    "import seaborn as sns\n",
    "import re\n",
    "\n",
    "df_2014 = pd.read_csv('2014_master.csv')\n",
    "df_2015 = pd.read_csv('2015_master.csv')\n",
    "df_2016 = pd.read_csv('2016_master.csv')\n",
    "df_2017 = pd.read_csv('2017_master.csv')"
   ]
  },
  {
   "cell_type": "code",
   "execution_count": 134,
   "metadata": {
    "collapsed": true
   },
   "outputs": [],
   "source": [
    "df_2014['Season'] = 2014\n",
    "df_2015['Season'] = 2015\n",
    "df_2016['Season'] = 2016\n",
    "df_2017['Season'] = 2017\n",
    "\n",
    "df = pd.concat([df_2014, df_2015, df_2016, df_2017])\n",
    "\n",
    "# not a real game type, dropped\n",
    "df = df[df.game_type_0!=1]\n",
    "\n",
    "# index counter to be removed\n",
    "df.drop(['Unnamed: 0','game_type_0'], axis=1, inplace=True)"
   ]
  },
  {
   "cell_type": "code",
   "execution_count": 135,
   "metadata": {
    "collapsed": true
   },
   "outputs": [],
   "source": [
    "#rename columns so more readable\n",
    "\n",
    "new_columns = df.columns.values\n",
    "new_columns[58:65] = ['TNF', 'Sunday_AM', 'Sunday_PM', 'SNF', 'MNF', 'England', 'Saturday']\n",
    "df.columns = new_columns"
   ]
  },
  {
   "cell_type": "code",
   "execution_count": 136,
   "metadata": {
    "collapsed": true
   },
   "outputs": [],
   "source": [
    "for col in range(66,114,4):\n",
    "    title = df.columns[col][5:]\n",
    "    df['home_off_spread_%s' % title] = df[df.columns[col]]-df[df.columns[col-57]]\n",
    "for col in range(7,59,4):\n",
    "    title = df.columns[col][5:]\n",
    "    df['away_off_spread_%s' % title] = df[df.columns[col]]-df[df.columns[col+61]]"
   ]
  },
  {
   "cell_type": "code",
   "execution_count": 137,
   "metadata": {
    "collapsed": true
   },
   "outputs": [],
   "source": [
    "for col in range(65,115,4):\n",
    "    title = df.columns[col][5:]\n",
    "    df['home_off_spread_%s' % title] = df[df.columns[col]]-df[df.columns[col-57]]\n",
    "for col in range(6,58,4):\n",
    "    title = df.columns[col][5:]\n",
    "    df['away_off_spread_%s' % title] = df[df.columns[col]]-df[df.columns[col+61]]"
   ]
  },
  {
   "cell_type": "code",
   "execution_count": 138,
   "metadata": {
    "collapsed": true
   },
   "outputs": [],
   "source": [
    "# dropping tampa and miami week 2 2017 games because they had no week 1 data because of flood \n",
    "df.reset_index(drop=True, inplace=True)\n",
    "\n",
    "df.drop(df[(df.Season == 2017) & (df.Week == 2) & (df.Away_team == 'MIA')].index, inplace=True)\n",
    "df.drop(df[(df.Season == 2017) & (df.Week == 2) & (df.Home_team == 'TAM')].index, inplace=True)"
   ]
  },
  {
   "cell_type": "code",
   "execution_count": 139,
   "metadata": {
    "collapsed": true
   },
   "outputs": [],
   "source": [
    "# # creating teams location features \n",
    "# #home timezone\n",
    "\n",
    "def h_tz(x):\n",
    "    if x in ['LAC','OAK','SEA','LAR','SFO']:\n",
    "        tz = 'Home_team_west'\n",
    "    elif x in ['DEN','ARI']:\n",
    "        tz = 'Home_team_mtn'\n",
    "    elif x in ['KAN','IND','NOR','DET','MIN','CHI','TEN','GNB','HOU','DAL']:\n",
    "        tz = 'Home_team_midwest'\n",
    "    else:\n",
    "        tz = 'Home_team_east'\n",
    "    return tz\n",
    "\n",
    "df['Home_tz'] = df['Home_team'].apply(h_tz)    \n",
    "        \n",
    "df = df.join(pd.get_dummies(df['Home_tz']))\n",
    "df.drop('Home_tz', axis=1, inplace=True)\n",
    "\n",
    "#away timezone\n",
    "\n",
    "def a_tz(x):\n",
    "    if x in ['LAC','OAK','SEA','LAR','SFO']:\n",
    "        tz = 'Away_team_west'\n",
    "    elif x in ['DEN','ARI']:\n",
    "        tz = 'Away_team_mtn'\n",
    "    elif x in ['KAN','IND','NOR','DET','MIN','CHI','TEN','GNB','HOU','DAL']:\n",
    "        tz = 'Away_team_midwest'\n",
    "    else:\n",
    "        tz = 'Away_team_east'\n",
    "    return tz\n",
    "\n",
    "df['Away_tz'] = df['Away_team'].apply(a_tz)  \n",
    "\n",
    "df = df.join(pd.get_dummies(df['Away_tz']))\n",
    "df.drop('Away_tz', axis=1, inplace=True)\n",
    "\n",
    "# games timezone\n",
    "\n",
    "def g_tz(x):\n",
    "    if x[1]==1:\n",
    "        tz = 'game_eng'\n",
    "    elif x[0] in ['LAC','OAK','SEA','LAR','SFO']:\n",
    "        tz = 'game_west'\n",
    "    elif x[0] in ['DEN','ARI']:\n",
    "        tz = 'game_mtn'\n",
    "    elif x[0] in ['KAN','IND','NOR','DET','MIN','CHI','TEN','GNB','HOU','DAL']:\n",
    "        tz = 'game_midwest'\n",
    "    else:\n",
    "        tz = 'game_east'\n",
    "    return tz\n",
    "\n",
    "df['game_tz'] = df[['Home_team','England']].apply(g_tz, axis=1)  \n",
    "\n",
    "df = df.join(pd.get_dummies(df['game_tz']))\n",
    "df.drop('game_tz', axis=1, inplace=True)\n",
    "\n",
    "# # Adding column for division games# Adding \n",
    "\n",
    "def division_game(x):\n",
    "    AFC_east = ['NWE','BUF','MIA','NYJ']\n",
    "    AFC_north = ['PIT','BAL','CIN','CLE']\n",
    "    AFC_south = ['JAX','TEN','IND','HOU']\n",
    "    AFC_west = ['KAN','LAC','OAK','DEN']\n",
    "    NFC_east = ['PHI','DAL','WAS','NYG']\n",
    "    NFC_north = ['MIN','DET','GNB','CHI']\n",
    "    NFC_south = ['NOR','CAR','ATL','TAM']\n",
    "    NFC_west = ['LAR','SEA','ARI','SFO']\n",
    "    home = x[0]\n",
    "    away = x[1]\n",
    "    if ((home in AFC_east) & (away in AFC_east)) | ((home in AFC_north) & (away in AFC_north)):\n",
    "        d = 1\n",
    "    elif ((home in AFC_south) & (away in AFC_south)) | ((home in AFC_west) & (away in AFC_west)):\n",
    "        d = 1\n",
    "    elif ((home in NFC_east) & (away in NFC_east)) | ((home in NFC_north) & (away in NFC_north)):\n",
    "        d = 1\n",
    "    elif ((home in NFC_south) & (away in NFC_south)) | ((home in NFC_west) & (away in NFC_west)):\n",
    "        d = 1\n",
    "    else:\n",
    "        d=0\n",
    "    return d\n",
    "\n",
    "\n",
    "df['Division_game'] = df[['Home_team','Away_team']].apply(division_game, axis=1)"
   ]
  },
  {
   "cell_type": "code",
   "execution_count": 117,
   "metadata": {
    "collapsed": true
   },
   "outputs": [],
   "source": [
    "# measure time between games\n",
    "\n",
    "# df['game_type'] = df[['TNF', 'Sunday_AM', 'Sunday_PM', 'SNF', 'MNF', 'England', 'Saturday']].idxmax(axis=1)\n",
    "\n",
    "# def time_btwn(x):\n",
    "#     week = x[0]\n",
    "#     team = x[1]\n",
    "#     season = x[2]\n",
    "#     game_t = {'TNF':0, 'Sunday_AM':3, 'Sunday_PM':3, 'SNF':3, 'MNF':4, 'England':3, 'Saturday':2}\n",
    "#     try: \n",
    "#         week_after = df[((df['Week']==week) & (df['Season']==season)) & ((df['Home_team']==team) | (df['Away_team']==team))]['game_type'].iloc[0]\n",
    "#         try:\n",
    "#             week_before = df[((df['Week']==week-1) & (df['Season']==season)) & ((df['Home_team']==team) | (df['Away_team']==team))]['game_type'].iloc[0]\n",
    "#             weekly = 7\n",
    "#         except:\n",
    "#             week_before = df[((df['Week']==week-2) & (df['Season']==season)) & ((df['Home_team']==team) | (df['Away_team']==team))]['game_type'].iloc[0]\n",
    "#             weekly = 14\n",
    "#         tb = game_t[week_after] + weekly - game_t[week_before]\n",
    "#     except:\n",
    "#         tb = 7 \n",
    "#     return tb\n",
    "\n",
    "# df['Home_team_days_after_last_game'] = df[['Week','Home_team','Season']].apply(time_btwn, axis=1)\n",
    "# df['Away_team_days_after_last_game'] = df[['Week','Away_team','Season']].apply(time_btwn, axis=1)\n",
    "\n",
    "# df.drop('game_type', axis=1, inplace=True)"
   ]
  },
  {
   "cell_type": "code",
   "execution_count": 140,
   "metadata": {
    "collapsed": true
   },
   "outputs": [],
   "source": [
    "# ADD GAME DATA\n",
    "\n",
    "pg = pd.read_csv('NFL_scrape.csv')\n",
    "pg = pg.drop('Unnamed: 0', axis=1)\n",
    "df_hw = pd.merge(df,pg,how='left', on=['Week','Season','Home_team','Away_team'])\n",
    "df = df_hw.drop('Home_win',axis=1)"
   ]
  },
  {
   "cell_type": "code",
   "execution_count": 141,
   "metadata": {
    "collapsed": true
   },
   "outputs": [],
   "source": [
    "# DUMMY VARIABLES FOR TEAMS, MAKE SURE TO CHECK THAT TEAMS ARE NOT DROPPED FROM TRAINING DATA BELOW\n",
    "\n",
    "df = pd.get_dummies(data=df,columns=['Home_team'])\n",
    "df = pd.get_dummies(data=df,columns=['Away_team'])"
   ]
  },
  {
   "cell_type": "code",
   "execution_count": 142,
   "metadata": {
    "collapsed": true
   },
   "outputs": [],
   "source": [
    "from sklearn.model_selection import train_test_split\n",
    "from sklearn.ensemble import RandomForestClassifier\n",
    "from sklearn.model_selection import GridSearchCV\n",
    "from sklearn.metrics import accuracy_score\n",
    "from sklearn.model_selection import StratifiedKFold\n",
    "from sklearn.linear_model import LogisticRegression"
   ]
  },
  {
   "cell_type": "code",
   "execution_count": 143,
   "metadata": {},
   "outputs": [],
   "source": [
    "df_test_by_season = df[df['Season']==2017]\n",
    "df_train_by_season = df[df['Season']!=2017]\n",
    "\n",
    "y_train = df_train_by_season['Home_cover']\n",
    "X_train = df_train_by_season.drop(['Season','Home_cover'], axis=1)\n",
    "# X_train = df_train_by_season.drop(['Season','Home_team', 'Away_team', 'Home_cover'], axis=1)\n",
    "\n",
    "y_test = df_test_by_season['Home_cover']\n",
    "X_test = df_test_by_season.drop(['Season','Home_cover'], axis=1)\n",
    "# X_test = df_test_by_season.drop(['Season','Home_team', 'Away_team', 'Home_cover'], axis=1)"
   ]
  },
  {
   "cell_type": "code",
   "execution_count": 144,
   "metadata": {},
   "outputs": [
    {
     "name": "stdout",
     "output_type": "stream",
     "text": [
      "('LR GridSearchCV f1 Score: ', 0.54937413073713492, ' with ', {'penalty': 'l2', 'C': 0.01})\n",
      "('LR Test Score: ', 0.55230125523012552)\n",
      "('LR Train Score: ', 0.58275382475660642)\n"
     ]
    }
   ],
   "source": [
    "n_params = [{'penalty':['l1','l2'], 'C':[.01,.1,1,10,100]}]\n",
    "clf1 = GridSearchCV(LogisticRegression(), n_params, cv=5, scoring='accuracy').fit(X_train, y_train)\n",
    "\n",
    "print('LR GridSearchCV f1 Score: ', clf1.best_score_, ' with ' , clf1.best_params_ )\n",
    "\n",
    "print('LR Test Score: ', accuracy_score(y_test, clf1.predict(X_test))) \n",
    "print('LR Train Score: ', accuracy_score(y_train, clf1.predict(X_train)))"
   ]
  },
  {
   "cell_type": "code",
   "execution_count": 145,
   "metadata": {},
   "outputs": [
    {
     "name": "stdout",
     "output_type": "stream",
     "text": [
      "[(0.26694229553669746, 1, 0), (0.2227831520667129, 0, 0), (0.20332666728420556, 0, 1), (0.17503904911407864, 0, 0), (0.13555303246107486, 1, 1)]\n",
      "Week 2 record: \n",
      "3-2\n",
      "[(0.20033475864052963, 1, 1), (0.18457430806504371, 0, 0), (0.17790779391600342, 1, 1), (0.16186362296908735, 0, 0), (0.14482962970464741, 1, 0)]\n",
      "Week 3 record: \n",
      "4-1\n",
      "[(0.13083168592827865, 0, 1), (0.12628358971926945, 0, 0), (0.12310233648430313, 0, 0), (0.093289995786785651, 1, 0), (0.087562382805779881, 1, 1)]\n",
      "Week 4 record: \n",
      "3-2\n",
      "[(0.13423530446428561, 0, 0), (0.12956117059316263, 1, 0), (0.12490504872893715, 0, 0), (0.11472008589154803, 0, 0), (0.090442840752968434, 0, 0)]\n",
      "Week 5 record: \n",
      "4-1\n",
      "[(0.21869578246470889, 1, 0), (0.16954902292347018, 1, 1), (0.13700110999502846, 0, 0), (0.13497700570144949, 1, 0), (0.11998138635927003, 0, 0)]\n",
      "Week 6 record: \n",
      "3-2\n",
      "[(0.18588047015022791, 1, 0), (0.10803382110904231, 1, 0), (0.076349302417884068, 1, 0), (0.070132207095450594, 0, 0), (0.06860579073767975, 1, 0)]\n",
      "Week 7 record: \n",
      "1-4\n",
      "[(0.17478459632441518, 0, 0), (0.096360029905023903, 0, 0), (0.092442926760736066, 1, 1), (0.092153623500506265, 1, 0), (0.089606742293679986, 0, 0)]\n",
      "Week 8 record: \n",
      "4-1\n",
      "[(0.20944086518772997, 0, 0), (0.18158528002300911, 0, 0), (0.1491934602688576, 0, 1), (0.11693929378565676, 1, 0), (0.065200239957212469, 0, 0)]\n",
      "Week 9 record: \n",
      "3-2\n",
      "[(0.18302346349152709, 0, 0), (0.15433892475982042, 1, 0), (0.1409205607647232, 1, 0), (0.085101063665418197, 0, 0), (0.06165538709242524, 1, 0)]\n",
      "Week 10 record: \n",
      "2-3\n",
      "[(0.15537502740499981, 1, 0), (0.13015040981706705, 0, 0), (0.10934557162987207, 0, 0), (0.10643089510584125, 1, 1), (0.10109932451805664, 0, 0)]\n",
      "Week 11 record: \n",
      "4-1\n",
      "[(0.14683383979993214, 1, 0), (0.079758130184855891, 1, 0), (0.076764350539967885, 1, 0), (0.062952987832934959, 1, 0), (0.056548356653169762, 1, 0)]\n",
      "Week 12 record: \n",
      "0-5\n",
      "[(0.15126838406049309, 0, 0), (0.11802818779844293, 1, 0), (0.10952124265315821, 0, 0), (0.095507693303138241, 1, 0), (0.087325767148599909, 1, 0)]\n",
      "Week 13 record: \n",
      "2-3\n",
      "[(0.15468380406270721, 1, 0), (0.13967668675024036, 1, 0), (0.13453863223653151, 0, 0), (0.12809825431183286, 0, 0), (0.098736242558200626, 1, 0)]\n",
      "Week 14 record: \n",
      "2-3\n",
      "[(0.11811417872249219, 1, 0), (0.11342578471839448, 1, 1), (0.080283780025393214, 1, 0), (0.078224471536594287, 1, 1), (0.073617331996809365, 1, 0)]\n",
      "Week 15 record: \n",
      "2-3\n",
      "[(0.15411117732434398, 1, 0), (0.13244999725427237, 0, 0), (0.1205853301249899, 0, 0), (0.10625042182308664, 1, 0), (0.082234162631926622, 0, 0)]\n",
      "Week 16 record: \n",
      "3-2\n",
      "[(0.18468941657866539, 0, 0), (0.1663119682106835, 0, 0), (0.13435023611577018, 0, 0), (0.088429830115301589, 0, 0), (0.078994489924007316, 1, 0)]\n",
      "Week 17 record: \n",
      "4-1\n"
     ]
    }
   ],
   "source": [
    "#Top 5 Predictions Logistic Regression# \n",
    "\n",
    "for week in range(2,18):\n",
    "    df_test_by_week = df_test_by_season[df_test_by_season['Week']==week]\n",
    "\n",
    "    y_test_by_week = df_test_by_week['Home_cover']\n",
    "#     X_test_by_week = df_test_by_week.drop(['Season','Home_team', 'Away_team', 'Home_cover'], axis=1)\n",
    "    X_test_by_week = df_test_by_week.drop(['Season','Home_cover'], axis=1)\n",
    "    \n",
    "\n",
    "    guess = list(zip(abs(clf1.predict_proba(X_test_by_week)[:,1]-.5), y_test_by_week, [0 if x<.5 else 1 for x in clf1.predict_proba(X_test_by_week)[:,1]]))\n",
    "    top5 = sorted(guess, reverse=True)[:5]\n",
    "    print(top5)\n",
    "    w = 0\n",
    "    for acc in top5:\n",
    "        if (acc[1]==acc[2]):\n",
    "            w+=1\n",
    "    print('Week %d record: ' % week)\n",
    "    print(str(w) +'-' + str(len(top5)-w))"
   ]
  },
  {
   "cell_type": "code",
   "execution_count": null,
   "metadata": {
    "collapsed": true
   },
   "outputs": [],
   "source": []
  }
 ],
 "metadata": {
  "kernelspec": {
   "display_name": "Python 2",
   "language": "python",
   "name": "python2"
  },
  "language_info": {
   "codemirror_mode": {
    "name": "ipython",
    "version": 2
   },
   "file_extension": ".py",
   "mimetype": "text/x-python",
   "name": "python",
   "nbconvert_exporter": "python",
   "pygments_lexer": "ipython2",
   "version": "2.7.14"
  }
 },
 "nbformat": 4,
 "nbformat_minor": 2
}
