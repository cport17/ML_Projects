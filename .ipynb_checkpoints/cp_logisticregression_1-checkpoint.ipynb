{
 "cells": [
  {
   "cell_type": "code",
   "execution_count": 68,
   "metadata": {
    "collapsed": true
   },
   "outputs": [],
   "source": [
    "import pandas as pd\n",
    "import numpy as np\n",
    "import matplotlib.pyplot as plt\n",
    "import os\n",
    "import seaborn as sns\n",
    "import re\n",
    "\n",
    "df_2014 = pd.read_csv('2014_master.csv')\n",
    "df_2015 = pd.read_csv('2015_master.csv')\n",
    "df_2016 = pd.read_csv('2016_master.csv')\n",
    "df_2017 = pd.read_csv('2017_master.csv')"
   ]
  },
  {
   "cell_type": "code",
   "execution_count": 69,
   "metadata": {
    "collapsed": true
   },
   "outputs": [],
   "source": [
    "df_2014['Season'] = 2014\n",
    "df_2015['Season'] = 2015\n",
    "df_2016['Season'] = 2016\n",
    "df_2017['Season'] = 2017\n",
    "\n",
    "df = pd.concat([df_2014, df_2015, df_2016, df_2017])\n",
    "\n",
    "# not a real game type, dropped\n",
    "df = df[df.game_type_0!=1]\n",
    "\n",
    "# index counter to be removed\n",
    "df.drop(['Unnamed: 0','game_type_0'], axis=1, inplace=True)"
   ]
  },
  {
   "cell_type": "code",
   "execution_count": 70,
   "metadata": {
    "collapsed": true
   },
   "outputs": [],
   "source": [
    "#rename columns so more readable\n",
    "\n",
    "new_columns = df.columns.values\n",
    "new_columns[58:65] = ['TNF', 'Sunday_AM', 'Sunday_PM', 'SNF', 'MNF', 'England', 'Saturday']\n",
    "df.columns = new_columns"
   ]
  },
  {
   "cell_type": "code",
   "execution_count": 71,
   "metadata": {
    "collapsed": true
   },
   "outputs": [],
   "source": [
    "for col in range(66,114,4):\n",
    "    title = df.columns[col][5:]\n",
    "    df['home_off_spread_%s' % title] = df[df.columns[col]]-df[df.columns[col-57]]\n",
    "for col in range(7,59,4):\n",
    "    title = df.columns[col][5:]\n",
    "    df['away_off_spread_%s' % title] = df[df.columns[col]]-df[df.columns[col+61]]"
   ]
  },
  {
   "cell_type": "code",
   "execution_count": 72,
   "metadata": {
    "collapsed": true
   },
   "outputs": [],
   "source": [
    "for col in range(65,115,4):\n",
    "    title = df.columns[col][5:]\n",
    "    df['home_off_spread_%s' % title] = df[df.columns[col]]-df[df.columns[col-57]]\n",
    "for col in range(6,58,4):\n",
    "    title = df.columns[col][5:]\n",
    "    df['away_off_spread_%s' % title] = df[df.columns[col]]-df[df.columns[col+61]]"
   ]
  },
  {
   "cell_type": "code",
   "execution_count": 73,
   "metadata": {
    "collapsed": true
   },
   "outputs": [],
   "source": [
    "# dropping tampa and miami week 2 2017 games because they had no week 1 data because of flood \n",
    "df.reset_index(drop=True, inplace=True)\n",
    "\n",
    "df.drop(df[(df.Season == 2017) & (df.Week == 2) & (df.Away_team == 'MIA')].index, inplace=True)\n",
    "df.drop(df[(df.Season == 2017) & (df.Week == 2) & (df.Home_team == 'TAM')].index, inplace=True)"
   ]
  },
  {
   "cell_type": "code",
   "execution_count": 63,
   "metadata": {
    "collapsed": true
   },
   "outputs": [],
   "source": [
    "# # creating teams location features \n",
    "# #home timezone\n",
    "\n",
    "def h_tz(x):\n",
    "    if x in ['LAC','OAK','SEA','LAR','SFO']:\n",
    "        tz = 'Home_team_west'\n",
    "    elif x in ['DEN','ARI']:\n",
    "        tz = 'Home_team_mtn'\n",
    "    elif x in ['KAN','IND','NOR','DET','MIN','CHI','TEN','GNB','HOU','DAL']:\n",
    "        tz = 'Home_team_midwest'\n",
    "    else:\n",
    "        tz = 'Home_team_east'\n",
    "    return tz\n",
    "\n",
    "df['Home_tz'] = df['Home_team'].apply(h_tz)    \n",
    "        \n",
    "df = df.join(pd.get_dummies(df['Home_tz']))\n",
    "df.drop('Home_tz', axis=1, inplace=True)\n",
    "\n",
    "#away timezone\n",
    "\n",
    "def a_tz(x):\n",
    "    if x in ['LAC','OAK','SEA','LAR','SFO']:\n",
    "        tz = 'Away_team_west'\n",
    "    elif x in ['DEN','ARI']:\n",
    "        tz = 'Away_team_mtn'\n",
    "    elif x in ['KAN','IND','NOR','DET','MIN','CHI','TEN','GNB','HOU','DAL']:\n",
    "        tz = 'Away_team_midwest'\n",
    "    else:\n",
    "        tz = 'Away_team_east'\n",
    "    return tz\n",
    "\n",
    "df['Away_tz'] = df['Away_team'].apply(a_tz)  \n",
    "\n",
    "df = df.join(pd.get_dummies(df['Away_tz']))\n",
    "df.drop('Away_tz', axis=1, inplace=True)\n",
    "\n",
    "# games timezone\n",
    "\n",
    "def g_tz(x):\n",
    "    if x[1]==1:\n",
    "        tz = 'game_eng'\n",
    "    elif x[0] in ['LAC','OAK','SEA','LAR','SFO']:\n",
    "        tz = 'game_west'\n",
    "    elif x[0] in ['DEN','ARI']:\n",
    "        tz = 'game_mtn'\n",
    "    elif x[0] in ['KAN','IND','NOR','DET','MIN','CHI','TEN','GNB','HOU','DAL']:\n",
    "        tz = 'game_midwest'\n",
    "    else:\n",
    "        tz = 'game_east'\n",
    "    return tz\n",
    "\n",
    "df['game_tz'] = df[['Home_team','England']].apply(g_tz, axis=1)  \n",
    "\n",
    "df = df.join(pd.get_dummies(df['game_tz']))\n",
    "df.drop('game_tz', axis=1, inplace=True)\n",
    "\n",
    "# # Adding column for division games# Adding \n",
    "\n",
    "def division_game(x):\n",
    "    AFC_east = ['NWE','BUF','MIA','NYJ']\n",
    "    AFC_north = ['PIT','BAL','CIN','CLE']\n",
    "    AFC_south = ['JAX','TEN','IND','HOU']\n",
    "    AFC_west = ['KAN','LAC','OAK','DEN']\n",
    "    NFC_east = ['PHI','DAL','WAS','NYG']\n",
    "    NFC_north = ['MIN','DET','GNB','CHI']\n",
    "    NFC_south = ['NOR','CAR','ATL','TAM']\n",
    "    NFC_west = ['LAR','SEA','ARI','SFO']\n",
    "    home = x[0]\n",
    "    away = x[1]\n",
    "    if ((home in AFC_east) & (away in AFC_east)) | ((home in AFC_north) & (away in AFC_north)):\n",
    "        d = 1\n",
    "    elif ((home in AFC_south) & (away in AFC_south)) | ((home in AFC_west) & (away in AFC_west)):\n",
    "        d = 1\n",
    "    elif ((home in NFC_east) & (away in NFC_east)) | ((home in NFC_north) & (away in NFC_north)):\n",
    "        d = 1\n",
    "    elif ((home in NFC_south) & (away in NFC_south)) | ((home in NFC_west) & (away in NFC_west)):\n",
    "        d = 1\n",
    "    else:\n",
    "        d=0\n",
    "    return d\n",
    "\n",
    "\n",
    "df['Division_game'] = df[['Home_team','Away_team']].apply(division_game, axis=1)"
   ]
  },
  {
   "cell_type": "code",
   "execution_count": 42,
   "metadata": {
    "collapsed": true
   },
   "outputs": [],
   "source": [
    "# measure time between games\n",
    "\n",
    "# df['game_type'] = df[['TNF', 'Sunday_AM', 'Sunday_PM', 'SNF', 'MNF', 'England', 'Saturday']].idxmax(axis=1)\n",
    "\n",
    "# def time_btwn(x):\n",
    "#     week = x[0]\n",
    "#     team = x[1]\n",
    "#     season = x[2]\n",
    "#     game_t = {'TNF':0, 'Sunday_AM':3, 'Sunday_PM':3, 'SNF':3, 'MNF':4, 'England':3, 'Saturday':2}\n",
    "#     try: \n",
    "#         week_after = df[((df['Week']==week) & (df['Season']==season)) & ((df['Home_team']==team) | (df['Away_team']==team))]['game_type'].iloc[0]\n",
    "#         try:\n",
    "#             week_before = df[((df['Week']==week-1) & (df['Season']==season)) & ((df['Home_team']==team) | (df['Away_team']==team))]['game_type'].iloc[0]\n",
    "#             weekly = 7\n",
    "#         except:\n",
    "#             week_before = df[((df['Week']==week-2) & (df['Season']==season)) & ((df['Home_team']==team) | (df['Away_team']==team))]['game_type'].iloc[0]\n",
    "#             weekly = 14\n",
    "#         tb = game_t[week_after] + weekly - game_t[week_before]\n",
    "#     except:\n",
    "#         tb = 7 \n",
    "#     return tb\n",
    "\n",
    "# df['Home_team_days_after_last_game'] = df[['Week','Home_team','Season']].apply(time_btwn, axis=1)\n",
    "# df['Away_team_days_after_last_game'] = df[['Week','Away_team','Season']].apply(time_btwn, axis=1)\n",
    "\n",
    "# df.drop('game_type', axis=1, inplace=True)"
   ]
  },
  {
   "cell_type": "code",
   "execution_count": 74,
   "metadata": {
    "collapsed": true
   },
   "outputs": [],
   "source": [
    "# ADD GAME DATA\n",
    "\n",
    "pg = pd.read_csv('NFL_scrape.csv')\n",
    "pg = pg.drop('Unnamed: 0', axis=1)\n",
    "df_hw = pd.merge(df,pg,how='left', on=['Week','Season','Home_team','Away_team'])\n",
    "df = df_hw.drop('Home_win',axis=1)"
   ]
  },
  {
   "cell_type": "code",
   "execution_count": 64,
   "metadata": {
    "collapsed": true
   },
   "outputs": [],
   "source": [
    "# DUMMY VARIABLES FOR TEAMS, MAKE SURE TO CHECK THAT TEAMS ARE NOT DROPPED FROM TRAINING DATA BELOW\n",
    "\n",
    "df = pd.get_dummies(data=df,columns=['Home_team'])\n",
    "df = pd.get_dummies(data=df,columns=['Away_team'])"
   ]
  },
  {
   "cell_type": "code",
   "execution_count": 21,
   "metadata": {
    "collapsed": true
   },
   "outputs": [],
   "source": [
    "from sklearn.model_selection import train_test_split\n",
    "from sklearn.ensemble import RandomForestClassifier\n",
    "from sklearn.model_selection import GridSearchCV\n",
    "from sklearn.metrics import accuracy_score\n",
    "from sklearn.model_selection import StratifiedKFold\n",
    "from sklearn.linear_model import LogisticRegression"
   ]
  },
  {
   "cell_type": "code",
   "execution_count": 75,
   "metadata": {
    "collapsed": true
   },
   "outputs": [],
   "source": [
    "df_test_by_season = df[df['Season']==2017]\n",
    "df_train_by_season = df[df['Season']!=2017]\n",
    "\n",
    "y_train = df_train_by_season['Home_cover']\n",
    "# X_train = df_train_by_season.drop(['Season','Home_cover'], axis=1)\n",
    "X_train = df_train_by_season.drop(['Season','Home_team', 'Away_team', 'Home_cover'], axis=1)\n",
    "\n",
    "y_test = df_test_by_season['Home_cover']\n",
    "# X_test = df_test_by_season.drop(['Season','Home_cover'], axis=1)\n",
    "X_test = df_test_by_season.drop(['Season','Home_team', 'Away_team', 'Home_cover'], axis=1)"
   ]
  },
  {
   "cell_type": "code",
   "execution_count": null,
   "metadata": {},
   "outputs": [],
   "source": [
    "n_params = [{'penalty':['l1','l2'], 'C':[.01,.1,1,10,100]}]\n",
    "clf1 = GridSearchCV(LogisticRegression(), n_params, cv=5, scoring='accuracy').fit(X_train, y_train)\n",
    "\n",
    "print('LR GridSearchCV f1 Score: ', clf1.best_score_, ' with ' , clf1.best_params_ )\n",
    "\n",
    "print('LR Test Score: ', accuracy_score(y_test, clf1.predict(X_test))) \n",
    "print('LR Train Score: ', accuracy_score(y_train, clf1.predict(X_train)))"
   ]
  },
  {
   "cell_type": "code",
   "execution_count": 67,
   "metadata": {},
   "outputs": [
    {
     "name": "stdout",
     "output_type": "stream",
     "text": [
      "[(0.038969895997213788, 1, 0), (0.038969895997213788, 0, 0), (0.019415817899440191, 0, 0), (0.018319608630932238, 1, 0), (0.016615300845438996, 0, 0)]\n",
      "Week 2 record: \n",
      "3-2\n",
      "[(0.030015174475391482, 0, 0), (0.021506070113266496, 0, 0), (0.017246522541019271, 0, 0), (0.016394292310066005, 0, 0), (0.01322887600977668, 1, 0)]\n",
      "Week 3 record: \n",
      "4-1\n",
      "[(0.041920736477732645, 1, 0), (0.024690782417097601, 0, 0), (0.022380904923892331, 0, 0), (0.022136812743979606, 0, 0), (0.021285225626029247, 1, 0)]\n",
      "Week 4 record: \n",
      "3-2\n",
      "[(0.026415982109170622, 0, 0), (0.025321148096767609, 0, 0), (0.023862870258376301, 0, 0), (0.022767484789604053, 1, 0), (0.01765671895645593, 0, 0)]\n",
      "Week 5 record: \n",
      "4-1\n",
      "[(0.033602810807040751, 0, 0), (0.033602810807040751, 0, 0), (0.031053928773015493, 0, 0), (0.030447611803493924, 0, 0), (0.030203934617488215, 1, 0)]\n",
      "Week 6 record: \n",
      "4-1\n",
      "[(0.032776598858287154, 1, 0), (0.029377012021258642, 1, 0), (0.025730774439351678, 1, 0), (0.025730774439351678, 1, 0), (0.024879764042239461, 1, 0)]\n",
      "Week 7 record: \n",
      "0-5\n",
      "[(0.039951258295941428, 1, 0), (0.038498440765129982, 0, 0), (0.036558465225531467, 0, 0), (0.034011629960444711, 0, 0), (0.030613112308962132, 1, 0)]\n",
      "Week 8 record: \n",
      "3-2\n",
      "[(0.043363504627416227, 0, 0), (0.043120757058027703, 0, 0), (0.035489597384030402, 1, 0), (0.032942001266253573, 1, 0), (0.029542555202362208, 1, 0)]\n",
      "Week 9 record: \n",
      "2-3\n",
      "[(0.054130044799450494, 1, 0), (0.043747934582271275, 1, 0), (0.038663571560168974, 1, 0), (0.032721705616905905, 0, 0), (0.031022248846748035, 0, 0)]\n",
      "Week 10 record: \n",
      "2-3\n",
      "[(0.045463885710969876, 1, 0), (0.040382481328280706, 0, 0), (0.038443637388300533, 0, 0), (0.037595374714294305, 1, 0), (0.02995179825011568, 0, 0)]\n",
      "Week 11 record: \n",
      "3-2\n",
      "[(0.055979851748913623, 1, 0), (0.051763420306388475, 0, 0), (0.050919220377352581, 1, 0), (0.04693634713582856, 1, 0), (0.044155457866576597, 1, 0)]\n",
      "Week 12 record: \n",
      "1-4\n",
      "[(0.064410924609670128, 0, 0), (0.055160233850912732, 0, 0), (0.046474585273122981, 1, 0), (0.041394980115913305, 1, 0), (0.037155348043605096, 1, 0)]\n",
      "Week 13 record: \n",
      "2-3\n",
      "[(0.053255252006224052, 1, 0), (0.046497710909726042, 0, 0), (0.04371637539580997, 0, 0), (0.041175238944387571, 0, 0), (0.039479949136244807, 1, 0)]\n",
      "Week 14 record: \n",
      "3-2\n",
      "[(0.06121551108036738, 0, 0), (0.052794664484170084, 1, 0), (0.052794664484170084, 1, 0), (0.048814802386853096, 0, 0), (0.048814802386853096, 0, 0)]\n",
      "Week 15 record: \n",
      "3-2\n",
      "[(0.060156893820232815, 0, 0), (0.056790799246146439, 1, 0), (0.055105774401533358, 1, 0), (0.054262784097578454, 0, 0), (0.051731958476461226, 1, 0)]\n",
      "Week 16 record: \n",
      "2-3\n",
      "[(0.066057007860689076, 0, 0), (0.065816684328006025, 1, 0), (0.062700816625993361, 1, 0), (0.059097729026931556, 1, 0), (0.058256283420259236, 0, 0)]\n",
      "Week 17 record: \n",
      "2-3\n"
     ]
    }
   ],
   "source": [
    "#Top 5 Predictions Logistic Regression# \n",
    "\n",
    "for week in range(2,18):\n",
    "    df_test_by_week = df_test_by_season[df_test_by_season['Week']==week]\n",
    "\n",
    "    y_test_by_week = df_test_by_week['Home_cover']\n",
    "    X_test_by_week = df_test_by_week.drop(['Season','Home_team', 'Away_team', 'Home_cover'], axis=1)\n",
    "#     X_test_by_week = df_test_by_week.drop(['Season','Home_cover'], axis=1)\n",
    "    \n",
    "\n",
    "    guess = list(zip(abs(clf1.predict_proba(X_test_by_week)[:,1]-.5), y_test_by_week, [0 if x<.5 else 1 for x in clf1.predict_proba(X_test_by_week)[:,1]]))\n",
    "    top5 = sorted(guess, reverse=True)[:5]\n",
    "    print(top5)\n",
    "    w = 0\n",
    "    for acc in top5:\n",
    "        if (acc[1]==acc[2]):\n",
    "            w+=1\n",
    "    print('Week %d record: ' % week)\n",
    "    print(str(w) +'-' + str(len(top5)-w))"
   ]
  },
  {
   "cell_type": "code",
   "execution_count": null,
   "metadata": {
    "collapsed": true
   },
   "outputs": [],
   "source": []
  }
 ],
 "metadata": {
  "kernelspec": {
   "display_name": "Python 2",
   "language": "python",
   "name": "python2"
  },
  "language_info": {
   "codemirror_mode": {
    "name": "ipython",
    "version": 2
   },
   "file_extension": ".py",
   "mimetype": "text/x-python",
   "name": "python",
   "nbconvert_exporter": "python",
   "pygments_lexer": "ipython2",
   "version": "2.7.14"
  }
 },
 "nbformat": 4,
 "nbformat_minor": 2
}
